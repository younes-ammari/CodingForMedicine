{
  "cells": [
    {
      "cell_type": "markdown",
      "metadata": {
        "id": "view-in-github",
        "colab_type": "text"
      },
      "source": [
        "<a href=\"https://colab.research.google.com/github/younes-ammari/CodingForMedicine/blob/main/exercises/Coding_Medical_Calculator_(CURB_65_Score)_.ipynb\" target=\"_parent\"><img src=\"https://colab.research.google.com/assets/colab-badge.svg\" alt=\"Open In Colab\"/></a>"
      ]
    },
    {
      "cell_type": "markdown",
      "metadata": {
        "id": "7SGo8A77w7uL"
      },
      "source": [
        "<a href=\"https://colab.research.google.com/github/chris-lovejoy/CodingForMedicine/blob/main/exercises/Coding_Medical_Calculator.ipynb\" target=\"_parent\"><img src=\"https://colab.research.google.com/assets/colab-badge.svg\" alt=\"Open In Colab\"/></a>"
      ]
    },
    {
      "cell_type": "markdown",
      "metadata": {
        "id": "9wQHeJcIw7uQ"
      },
      "source": [
        "# How to Code a Medical Calculator"
      ]
    },
    {
      "cell_type": "markdown",
      "metadata": {
        "id": "zeiIwf-Mw7uR"
      },
      "source": [
        "**In this exercise, we will make a simple medical calculator for calculating a patient's score of [the CURB-65 Score](https://www.mdcalc.com/calc/801/cha2ds2-vasc-score-atrial-fibrillation-stroke-risk) for pneumonia severity .**\n",
        "\n",
        "You're then invited to apply the same principles for other medical calculators, such as:\n",
        "- [CHA₂DS₂-VASc score](https://www.mdcalc.com/calc/801/cha2ds2-vasc-score-atrial-fibrillation-stroke-risk) for Stroke Risk in Atrial Fibrillation \n",
        "- [GCS](https://www.mdcalc.com/calc/64/glasgow-coma-scale-score-gcs) \n",
        "- [PERC score](https://www.mdcalc.com/calc/347/perc-rule-pulmonary-embolism) for pulmonary embolism\n",
        "- [qSOFA score](https://www.mdcalc.com/calc/2654/qsofa-quick-sofa-score-sepsis) for sepsis\n",
        "\n",
        "We will making use of a few key Python functions and concepts:\n",
        "- the **input() function**, which prompts the user to enter information\n",
        "- the **try/except statement**, which lets you specify how the code should respond to errors\n",
        "- checking **data types** such as integers (ints) and floats  \n",
        "- the conditional statements **if, else and while**, to control which code gets executed based on conditions \n",
        "\n",
        "Credit to [Harvinder Power](https://github.com/harvinder-power) for the initial inspiration for this exercise."
      ]
    },
    {
      "cell_type": "markdown",
      "metadata": {
        "id": "DN9HsKCnw7uS"
      },
      "source": [
        "## Part 1: Getting ready"
      ]
    },
    {
      "cell_type": "markdown",
      "metadata": {
        "id": "86bDOrSJw7uT"
      },
      "source": [
        "The print() function just lets us print out anything we want into the console. Test it out below."
      ]
    },
    {
      "cell_type": "code",
      "execution_count": null,
      "metadata": {
        "id": "Ld0ZSNW-w7uT"
      },
      "outputs": [],
      "source": [
        "print('Welcome to the CURB-65 Score Calculator!\\n')"
      ]
    },
    {
      "cell_type": "markdown",
      "metadata": {
        "id": "b4lMlad1w7uU"
      },
      "source": [
        "Because we're creating a calculator, we'll need a variable to keep the score. Let's declare this variable:"
      ]
    },
    {
      "cell_type": "code",
      "execution_count": 34,
      "metadata": {
        "id": "HVhwkUjUw7uV"
      },
      "outputs": [],
      "source": [
        "CURB65_score = 0"
      ]
    },
    {
      "cell_type": "markdown",
      "metadata": {
        "id": "ecA_FAI4w7uV"
      },
      "source": [
        "## Part 2: Getting the first input\n"
      ]
    },
    {
      "cell_type": "markdown",
      "metadata": {
        "id": "zQ6jGw06w7uW"
      },
      "source": [
        "For CURB-65 Score, we need to know the patient's: \n",
        "\n",
        "*   Age\n",
        "*   Confusion\n",
        "*   Respiratory Rate\n",
        "*   BUN mg/dL ( mmol/L urea)\n",
        "*   Systolic BP (mmHg) or Diastolic BP (mmHg)\n",
        "\n",
        "\n",
        "\n",
        "Let's start by asking the user to enter the age using the input() function:"
      ]
    },
    {
      "cell_type": "code",
      "execution_count": null,
      "metadata": {
        "id": "XOnvUTr8w7uW"
      },
      "outputs": [],
      "source": [
        "age = input(\"What is the patient's Age?\")"
      ]
    },
    {
      "cell_type": "markdown",
      "metadata": {
        "id": "Aq_IdBuLw7uW"
      },
      "source": [
        "This works - but there's a problem. Right now, the input will accept *anything* - including if the user doesn't input a number. That won't work, because we'll need to perform a calculation on it later.\n",
        "\n",
        "We can solve this using try/except. We put the code we want to try in a 'try' section. If the code isn't able to execute, we can return an error in the 'except' section.\n",
        "\n",
        "Let's try converting the input received into a number, and add an error if the code can't convert it. Test this out in the code block below."
      ]
    },
    {
      "cell_type": "code",
      "execution_count": null,
      "metadata": {
        "id": "MXC1gerYw7uX"
      },
      "outputs": [],
      "source": [
        "age = input(\"What is the patient's age? \")\n",
        "try:\n",
        "    # Tries to convert the string to a int, and sees if any errors occur (see below) \n",
        "    age = int(age)\n",
        "except ValueError:\n",
        "    print(\"You did not enter a number. Please enter a number.\")"
      ]
    },
    {
      "cell_type": "markdown",
      "metadata": {
        "id": "6LU1_RCzw7uX"
      },
      "source": [
        "If the user enters an incorrect value, we want the code to keep running - and to prompt them to enter another number.\n",
        "\n",
        "We can do this using the **while** conditional. The while conditional will keep executing it's code as long as the conditional is met. For example:"
      ]
    },
    {
      "cell_type": "code",
      "execution_count": null,
      "metadata": {
        "id": "o86-UBHLw7uX"
      },
      "outputs": [],
      "source": [
        "index = 0\n",
        "while index < 10:\n",
        "    print(index)\n",
        "    index += 1\n",
        "print(\"Index no longer less than 0.\")"
      ]
    },
    {
      "cell_type": "markdown",
      "metadata": {
        "id": "zjUiUIzIw7uX"
      },
      "source": [
        "In our case, we can use the while loop to keep running until the user as input a valid number. to do this, we can take our code from before and put it inside a 'while True' statement. 'While True' means that the code will keep on running forever until we call 'break' (so it's important not to forget that!).\n",
        "\n",
        "We'll put the 'break' statement inside an 'else' block, so it only gets executed if the 'try' statement was performed successfully."
      ]
    },
    {
      "cell_type": "code",
      "execution_count": null,
      "metadata": {
        "id": "DfFUv4Wbw7uY"
      },
      "outputs": [],
      "source": [
        "while True:\n",
        "    age = input(\"What is the patient's age? \")\n",
        "    try:\n",
        "        age = int(age)\n",
        "    except ValueError:\n",
        "        print(\"You did not enter a number. Please enter a number.\")\n",
        "    else:\n",
        "        break"
      ]
    },
    {
      "cell_type": "markdown",
      "metadata": {
        "id": "c69I3JK5w7uY"
      },
      "source": [
        "## Part 3: Update our score based on the input"
      ]
    },
    {
      "cell_type": "markdown",
      "metadata": {
        "id": "bfmj25wPw7uY"
      },
      "source": [
        "We now need some logic to handle how we update our CURB-65 score. If the age is above or equal 65, then we should change increase the score by 1. We'll use an 'if' statement for this. We declared the variable 'CURB65_score' at the start, so this is the variable that we'll modify."
      ]
    },
    {
      "cell_type": "code",
      "execution_count": 35,
      "metadata": {
        "id": "hqOW8_7Gw7uY",
        "colab": {
          "base_uri": "https://localhost:8080/"
        },
        "outputId": "fd6fb52c-b9f3-461e-dc24-452a2bf78abf"
      },
      "outputs": [
        {
          "output_type": "stream",
          "name": "stdout",
          "text": [
            "Age:  66\n",
            "Points:  1\n"
          ]
        }
      ],
      "source": [
        "print(\"Age: \", age)\n",
        "if(age >= 65):\n",
        "    CURB65_score += 1\n",
        "    print(\"Points: \", CURB65_score)\n",
        "else:\n",
        "    print(\"Points: \", CURB65_score)"
      ]
    },
    {
      "cell_type": "markdown",
      "metadata": {
        "id": "9apUslqEw7uZ"
      },
      "source": [
        "We now have the all the basic building blocks for (1) prompting the user to input information, (2) checking the information is appropriate and (3) using the information to update our score."
      ]
    },
    {
      "cell_type": "markdown",
      "metadata": {
        "id": "qx0xmzCdw7uZ"
      },
      "source": [
        "## Part 4: Requesting the other variables and updating the score"
      ]
    },
    {
      "cell_type": "markdown",
      "metadata": {
        "id": "vvG9DC4dw7uZ"
      },
      "source": [
        "Below are the six remaining variables/elements we need to ask about, with gradually-reducing amounts of template code included. Work through them in-turn for practice."
      ]
    },
    {
      "cell_type": "markdown",
      "metadata": {
        "id": "FL0sgh40w7uZ"
      },
      "source": [
        "### Confusion"
      ]
    },
    {
      "cell_type": "code",
      "execution_count": null,
      "metadata": {
        "id": "lV7SxG5bw7ua"
      },
      "outputs": [],
      "source": [
        "while True:\n",
        "    confusion = input(\"Does the patient have confusion? type 1 or 0 :\\n Yes: 1\\n No: 0 \\n>>>>> \")\n",
        "    try:\n",
        "        confusion = int(confusion)\n",
        "    except:\n",
        "        print(\"You did not enter a right value. Please enter  1 for [Yes] or 0 for [No].\")\n",
        "        continue\n",
        "    if confusion==1 or confusion==0:\n",
        "      break"
      ]
    },
    {
      "cell_type": "code",
      "execution_count": 36,
      "metadata": {
        "id": "5svRcgQYw7ua",
        "colab": {
          "base_uri": "https://localhost:8080/"
        },
        "outputId": "cf8ec0ad-7903-4ebc-e5f7-768046097944"
      },
      "outputs": [
        {
          "output_type": "stream",
          "name": "stdout",
          "text": [
            "Confusion:  1\n",
            "Points:  2\n"
          ]
        }
      ],
      "source": [
        "print(\"Confusion: \", confusion)\n",
        "if(confusion == 1): #Yes[1] +1   No[0] +0\n",
        "    CURB65_score += 1\n",
        "    print(\"Points: \", CURB65_score)\n",
        "else:\n",
        "    print(\"Points: \", CURB65_score)"
      ]
    },
    {
      "cell_type": "markdown",
      "metadata": {
        "id": "5ea32cSNw7ua"
      },
      "source": [
        "### Respiratory Rate"
      ]
    },
    {
      "cell_type": "code",
      "execution_count": null,
      "metadata": {
        "id": "gM4GOCstw7ub"
      },
      "outputs": [],
      "source": [
        "while True:\n",
        "    respRate = input(\"What is the patient's respiratory rate per minute?\")\n",
        "    try:\n",
        "        respRate = int(respRate)\n",
        "    except:\n",
        "        print(\"You did not enter a correct number. Please enter an integer.\")\n",
        "        continue\n",
        "    else:\n",
        "      break"
      ]
    },
    {
      "cell_type": "code",
      "execution_count": 37,
      "metadata": {
        "id": "bflDYt3pw7ub",
        "colab": {
          "base_uri": "https://localhost:8080/"
        },
        "outputId": "f5194ddc-a3ef-45a4-8eea-cfe49db2a8fe"
      },
      "outputs": [
        {
          "output_type": "stream",
          "name": "stdout",
          "text": [
            "Respiratory rate:  25\n",
            "Points:  2\n"
          ]
        }
      ],
      "source": [
        "print(\"Respiratory rate: \", respRate)\n",
        "if(respRate >= 30): #>=30 +1 \n",
        "    CURB65_score += 1\n",
        "    print(\"Points: \", CURB65_score)\n",
        "else:\n",
        "    print(\"Points: \", CURB65_score)"
      ]
    },
    {
      "cell_type": "markdown",
      "metadata": {
        "id": "dwxckQtfw7ub"
      },
      "source": [
        "### BUN (Blood Urea Nitrogen)"
      ]
    },
    {
      "cell_type": "code",
      "execution_count": null,
      "metadata": {
        "id": "vHAYaKhnw7ub"
      },
      "outputs": [],
      "source": [
        "while True:\n",
        "    bun_choice = input(\"BUN (Blood Urea Nitrogen) choose a choice to continue \\n1:mg/dL \\n2-mmol/L urea\\n\")\n",
        "    try:\n",
        "        bun_choice = int(bun_choice)\n",
        "    except:\n",
        "        print(\"You did not enter a right value. Please enter  1 for [mg/dL] or 0 for [mmol/L urea].\")\n",
        "        continue\n",
        "    if bun_choice==1 or bun_choice==2:\n",
        "      if bun_choice == 1:\n",
        "        while True:\n",
        "          bun_value = input(\"BUN (Blood Urea Nitrogen) mg/dL:\")\n",
        "          try:\n",
        "              bun_value = float(bun_value)\n",
        "          except:\n",
        "              print(\"You did not enter a right value.\")\n",
        "              continue\n",
        "          else:\n",
        "            break\n",
        "      else:\n",
        "        while True:\n",
        "          bun_value = input(\"BUN (Blood Urea Nitrogen) mmol/L urea:\")\n",
        "          try:\n",
        "              bun_value = float(bun_value)\n",
        "          except:\n",
        "              print(\"You did not enter a right value.\")\n",
        "              continue\n",
        "          else:\n",
        "            break\n",
        "      break"
      ]
    },
    {
      "cell_type": "code",
      "execution_count": 38,
      "metadata": {
        "id": "MqpUPGcbw7ub",
        "colab": {
          "base_uri": "https://localhost:8080/"
        },
        "outputId": "476a2685-1cdc-4716-d31b-6783fa2a8868"
      },
      "outputs": [
        {
          "output_type": "stream",
          "name": "stdout",
          "text": [
            "BUN (Blood Urea Nitrogen): mg/dL 20.0\n",
            "Points:  3\n"
          ]
        }
      ],
      "source": [
        "print(\"BUN (Blood Urea Nitrogen):\" , \"mg/dL\" if bun_choice==1 else \"mmol/L urea\", bun_value)\n",
        "if(bun_choice == 1 and bun_value >19) or (bun_choice == 2 and bun_value >7): #BUN >19 mg/dL (>7 mmol/L urea)   +1\n",
        "    CURB65_score += 1\n",
        "    print(\"Points: \", CURB65_score)\n",
        "else:\n",
        "    print(\"Points: \", CURB65_score)"
      ]
    },
    {
      "cell_type": "markdown",
      "metadata": {
        "id": "GYymZIQ36VqP"
      },
      "source": [
        "### Systolic and Diastolic Blood pressure "
      ]
    },
    {
      "cell_type": "code",
      "execution_count": null,
      "metadata": {
        "id": "EMOIyLpm6VqP"
      },
      "outputs": [],
      "source": [
        "\n",
        "# Systolic Blood pressure\n",
        "while True:\n",
        "    sys_bp = input(\"Systolic Blood pressure \")\n",
        "    try:\n",
        "        sys_bp = float(sys_bp)\n",
        "    except:\n",
        "        print(\"You did not enter a correct number. Please enter an integer.\")\n",
        "        continue\n",
        "    else:\n",
        "      break\n",
        "\n",
        "# Diastolic Blood pressure\n",
        "while True:\n",
        "    dias_bp = input(\"Diastolic Blood pressure \")\n",
        "    try:\n",
        "        dias_bp = float(dias_bp)\n",
        "    except:\n",
        "        print(\"You did not enter a correct number. Please enter an integer.\")\n",
        "        continue\n",
        "    else:\n",
        "      break"
      ]
    },
    {
      "cell_type": "code",
      "execution_count": 39,
      "metadata": {
        "id": "bAKGFwcc6VqQ",
        "colab": {
          "base_uri": "https://localhost:8080/"
        },
        "outputId": "cc2ba628-d49d-48b9-a555-70556e4c2c69"
      },
      "outputs": [
        {
          "output_type": "stream",
          "name": "stdout",
          "text": [
            "Systolic and Diastolic Blood pressure:  \n",
            "Systolic 90.0 mmHg \n",
            "Diastolic 60.0 mmHg\n",
            "Points:  4\n"
          ]
        }
      ],
      "source": [
        "print(\"Systolic and Diastolic Blood pressure: \", '\\nSystolic', sys_bp, 'mmHg', '\\nDiastolic', dias_bp, 'mmHg')\n",
        "if(sys_bp < 90) or (dias_bp <= 60): #Systolic BP <90 mmHg or Diastolic BP ≤60 mmHg  +1\n",
        "    CURB65_score += 1\n",
        "    print(\"Points: \", CURB65_score)\n",
        "else:\n",
        "    print(\"Points: \", CURB65_score)"
      ]
    },
    {
      "cell_type": "markdown",
      "metadata": {
        "id": "KQ6plFm7w7uc"
      },
      "source": [
        "## Part 5: Reporting the final score"
      ]
    },
    {
      "cell_type": "markdown",
      "metadata": {
        "id": "AwmgkdBuw7uc"
      },
      "source": [
        "Once you've written all the required code above, try running all the cells back-to-back and then printing out the final results using the cell below."
      ]
    },
    {
      "cell_type": "markdown",
      "metadata": {
        "id": "goUGM6haw7uc"
      },
      "source": [
        "### Total score"
      ]
    },
    {
      "cell_type": "markdown",
      "source": [
        "<div><h2>Management</h2><div><p>The CURB-65 scores range from 0 to 5. Assign points as in the table based on confusion status, urea level, respiratory rate, blood pressure, and age. Clinical management decisions can be made based on the score, as described in the validation study below:</p>\n",
        "<table class=\"table table-bordered table-hover\">\n",
        "<tbody>\n",
        "<tr>\n",
        "<th>Score</th>\n",
        "<th>Risk</th>\n",
        "<th>Disposition</th>\n",
        "</tr>\n",
        "<tr>\n",
        "<td>0 or 1</td>\n",
        "<td>1.5% mortality</td>\n",
        "<td>Outpatient care</td>\n",
        "</tr>\n",
        "<tr>\n",
        "<td>2</td>\n",
        "<td>9.2% mortality</td>\n",
        "<td>Inpatient vs. observation admission</td>\n",
        "</tr>\n",
        "<tr>\n",
        "<td>≥3</td>\n",
        "<td>22% mortality</td>\n",
        "<td>Inpatient admission with consideration for ICU admission with score of 4 or 5</td>\n",
        "</tr>\n",
        "</tbody>\n",
        "</table></div></div><div><h2>Critical Actions</h2><div><p>For patients scoring high on CURB-65, it would be prudent to ensure initial triage has not missed the presence of sepsis. Evaluation of <a href=\"https://www.mdcalc.com/sirs-sepsis-septic-shock-criteria\" target=\"_blank\" class=\"activeLink\">SIRS criteria</a> would be beneficial.</p>\n",
        "<p></p></div></div></div>"
      ],
      "metadata": {
        "id": "_UB7i8W8NJ5l"
      }
    },
    {
      "cell_type": "code",
      "execution_count": null,
      "metadata": {
        "id": "lV9Da4aKw7uc"
      },
      "outputs": [],
      "source": [
        "print(\"Total score: \", CURB65_score)\n",
        "if(CURB65_score <= 1): \n",
        "    print(\"The patient has 1.5% mortality risk.\\nDisposition: Outpatient care\")\n",
        "\n",
        "elif(CURB65_score == 2): \n",
        "    print(\"The patient has 9.2% mortality risk.\\nDisposition: Inpatient vs. observation admission\")\n",
        "\n",
        "else: \n",
        "    print(\"The patient has 22% mortality risk.\\nDisposition: Inpatient admission with consideration for ICU admission with score of 4 or 5\")"
      ]
    },
    {
      "cell_type": "code",
      "source": [
        "print(age)\n",
        "print(confusion)\n",
        "print(bun_choice)\n",
        "print(bun_value)\n",
        "print(respRate)\n",
        "print(sys_bp)\n",
        "print(dias_bp)\n"
      ],
      "metadata": {
        "id": "Er4jw_lv_PWo"
      },
      "execution_count": null,
      "outputs": []
    },
    {
      "cell_type": "code",
      "source": [],
      "metadata": {
        "id": "rxuuLH4XQKfc"
      },
      "execution_count": null,
      "outputs": []
    }
  ],
  "metadata": {
    "kernelspec": {
      "display_name": "Python 3 (ipykernel)",
      "language": "python",
      "name": "python3"
    },
    "language_info": {
      "codemirror_mode": {
        "name": "ipython",
        "version": 3
      },
      "file_extension": ".py",
      "mimetype": "text/x-python",
      "name": "python",
      "nbconvert_exporter": "python",
      "pygments_lexer": "ipython3",
      "version": "3.8.9"
    },
    "colab": {
      "provenance": [],
      "include_colab_link": true
    }
  },
  "nbformat": 4,
  "nbformat_minor": 0
}