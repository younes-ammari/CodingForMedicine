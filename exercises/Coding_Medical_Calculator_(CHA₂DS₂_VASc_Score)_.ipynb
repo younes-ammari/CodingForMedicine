{
  "cells": [
    {
      "cell_type": "markdown",
      "metadata": {
        "id": "view-in-github",
        "colab_type": "text"
      },
      "source": [
        "<a href=\"https://colab.research.google.com/github/younes-ammari/CodingForMedicine/blob/main/exercises/Coding_Medical_Calculator_(CHA%E2%82%82DS%E2%82%82_VASc_Score)_.ipynb\" target=\"_parent\"><img src=\"https://colab.research.google.com/assets/colab-badge.svg\" alt=\"Open In Colab\"/></a>"
      ]
    },
    {
      "cell_type": "markdown",
      "metadata": {
        "id": "9wQHeJcIw7uQ"
      },
      "source": [
        "# How to Code a Medical Calculator"
      ]
    },
    {
      "cell_type": "markdown",
      "metadata": {
        "id": "zeiIwf-Mw7uR"
      },
      "source": [
        "**In this exercise, we will make a simple medical calculator for calculating a patient's score of [the CHA₂DS₂-VASc Score](https://www.mdcalc.com/calc/801/cha2ds2-vasc-score-atrial-fibrillation-stroke-risk) for Atrial Fibrillation Stroke Risk .**\n",
        "\n",
        "You're then invited to apply the same principles for other medical calculators, such as:\n",
        "- [CURB-65 score](https://www.mdcalc.com/calc/324/curb-65-score-pneumonia-severity) for pneumonia severity\n",
        "- [GCS](https://www.mdcalc.com/calc/64/glasgow-coma-scale-score-gcs) \n",
        "- [PERC score](https://www.mdcalc.com/calc/347/perc-rule-pulmonary-embolism) for pulmonary embolism\n",
        "- [qSOFA score](https://www.mdcalc.com/calc/2654/qsofa-quick-sofa-score-sepsis) for sepsis\n",
        "\n",
        "We will making use of a few key Python functions and concepts:\n",
        "- the **input() function**, which prompts the user to enter information\n",
        "- the **try/except statement**, which lets you specify how the code should respond to errors\n",
        "- checking **data types** such as integers (ints) and floats  \n",
        "- the conditional statements **if, else and while**, to control which code gets executed based on conditions \n",
        "\n",
        "Credit to [Harvinder Power](https://github.com/harvinder-power) for the initial inspiration for this exercise."
      ]
    },
    {
      "cell_type": "markdown",
      "metadata": {
        "id": "DN9HsKCnw7uS"
      },
      "source": [
        "## Part 1: Getting ready"
      ]
    },
    {
      "cell_type": "markdown",
      "metadata": {
        "id": "86bDOrSJw7uT"
      },
      "source": [
        "The print() function just lets us print out anything we want into the console. Test it out below."
      ]
    },
    {
      "cell_type": "code",
      "execution_count": null,
      "metadata": {
        "id": "Ld0ZSNW-w7uT"
      },
      "outputs": [],
      "source": [
        "print('Welcome to the CHA₂DS₂-VASc Score Calculator!\\n')"
      ]
    },
    {
      "cell_type": "markdown",
      "metadata": {
        "id": "b4lMlad1w7uU"
      },
      "source": [
        "Because we're creating a calculator, we'll need a variable to keep the score. Let's declare this variable:"
      ]
    },
    {
      "cell_type": "code",
      "execution_count": null,
      "metadata": {
        "id": "HVhwkUjUw7uV"
      },
      "outputs": [],
      "source": [
        "CHA2DS2_VASc_score = 0"
      ]
    },
    {
      "cell_type": "markdown",
      "metadata": {
        "id": "ecA_FAI4w7uV"
      },
      "source": [
        "## Part 2: Getting the first input\n"
      ]
    },
    {
      "cell_type": "markdown",
      "metadata": {
        "id": "zQ6jGw06w7uW"
      },
      "source": [
        "For CHA₂DS₂-VASc Score, we need to know the patient's: \n",
        "\n",
        "*   Age\n",
        "*   Sexe\n",
        "*   CHF history\n",
        "*   Hypertension history\n",
        "*   Stroke/TIA/thromboembolism history \n",
        "*   Vascular disease history (prior MI, peripheral artery disease, or aortic plaque)\n",
        "*   Diabetes history\n",
        "\n",
        "\n",
        "\n",
        "Let's start by asking the user to enter the age using the input() function:"
      ]
    },
    {
      "cell_type": "code",
      "execution_count": null,
      "metadata": {
        "id": "XOnvUTr8w7uW"
      },
      "outputs": [],
      "source": [
        "age = input(\"What is the patient's Age?\")"
      ]
    },
    {
      "cell_type": "markdown",
      "metadata": {
        "id": "Aq_IdBuLw7uW"
      },
      "source": [
        "This works - but there's a problem. Right now, the input will accept *anything* - including if the user doesn't input a number. That won't work, because we'll need to perform a calculation on it later.\n",
        "\n",
        "We can solve this using try/except. We put the code we want to try in a 'try' section. If the code isn't able to execute, we can return an error in the 'except' section.\n",
        "\n",
        "Let's try converting the input received into a number, and add an error if the code can't convert it. Test this out in the code block below."
      ]
    },
    {
      "cell_type": "code",
      "execution_count": null,
      "metadata": {
        "id": "MXC1gerYw7uX"
      },
      "outputs": [],
      "source": [
        "age = input(\"What is the patient's age? \")\n",
        "try:\n",
        "    # Tries to convert the string to a int, and sees if any errors occur (see below) \n",
        "    age = int(age)\n",
        "except ValueError:\n",
        "    print(\"You did not enter a number. Please enter a number.\")"
      ]
    },
    {
      "cell_type": "markdown",
      "metadata": {
        "id": "6LU1_RCzw7uX"
      },
      "source": [
        "If the user enters an incorrect value, we want the code to keep running - and to prompt them to enter another number.\n",
        "\n",
        "We can do this using the **while** conditional. The while conditional will keep executing it's code as long as the conditional is met. For example:"
      ]
    },
    {
      "cell_type": "code",
      "execution_count": null,
      "metadata": {
        "id": "o86-UBHLw7uX"
      },
      "outputs": [],
      "source": [
        "index = 0\n",
        "while index < 10:\n",
        "    print(index)\n",
        "    index += 1\n",
        "print(\"Index no longer less than 0.\")"
      ]
    },
    {
      "cell_type": "markdown",
      "metadata": {
        "id": "zjUiUIzIw7uX"
      },
      "source": [
        "In our case, we can use the while loop to keep running until the user as input a valid number. to do this, we can take our code from before and put it inside a 'while True' statement. 'While True' means that the code will keep on running forever until we call 'break' (so it's important not to forget that!).\n",
        "\n",
        "We'll put the 'break' statement inside an 'else' block, so it only gets executed if the 'try' statement was performed successfully."
      ]
    },
    {
      "cell_type": "code",
      "execution_count": null,
      "metadata": {
        "id": "DfFUv4Wbw7uY"
      },
      "outputs": [],
      "source": [
        "while True:\n",
        "    age = input(\"What is the patient's age? \")\n",
        "    try:\n",
        "        age = int(age)\n",
        "    except ValueError:\n",
        "        print(\"You did not enter a number. Please enter a number.\")\n",
        "    else:\n",
        "        break"
      ]
    },
    {
      "cell_type": "markdown",
      "metadata": {
        "id": "c69I3JK5w7uY"
      },
      "source": [
        "## Part 3: Update our score based on the input"
      ]
    },
    {
      "cell_type": "markdown",
      "metadata": {
        "id": "bfmj25wPw7uY"
      },
      "source": [
        "We now need some logic to handle how we update our CHA₂-DS₂-VASc score. If the age is above 75 or below 65 or between them, then we should change  the score. We'll use an 'if' statement for this. We declared the variable 'CHA2DS2_VASc_score' at the start, so this is the variable that we'll modify."
      ]
    },
    {
      "cell_type": "code",
      "execution_count": null,
      "metadata": {
        "id": "hqOW8_7Gw7uY"
      },
      "outputs": [],
      "source": [
        "print(\"Age: \", age)\n",
        "if(age >= 65 and age <= 74):\n",
        "    CHA2DS2_VASc_score += 1\n",
        "    print(\"Points: \", CHA2DS2_VASc_score)\n",
        "elif (age>=75):\n",
        "    CHA2DS2_VASc_score += 2\n",
        "    print(\"Points: \", CHA2DS2_VASc_score)\n",
        "else:\n",
        "    print(\"Points: \", CHA2DS2_VASc_score)"
      ]
    },
    {
      "cell_type": "markdown",
      "metadata": {
        "id": "9apUslqEw7uZ"
      },
      "source": [
        "We now have the all the basic building blocks for (1) prompting the user to input information, (2) checking the information is appropriate and (3) using the information to update our score."
      ]
    },
    {
      "cell_type": "markdown",
      "metadata": {
        "id": "qx0xmzCdw7uZ"
      },
      "source": [
        "## Part 4: Requesting the other variables and updating the score"
      ]
    },
    {
      "cell_type": "markdown",
      "metadata": {
        "id": "vvG9DC4dw7uZ"
      },
      "source": [
        "Below are the six remaining variables/elements we need to ask about, with gradually-reducing amounts of template code included. Work through them in-turn for practice."
      ]
    },
    {
      "cell_type": "markdown",
      "metadata": {
        "id": "FL0sgh40w7uZ"
      },
      "source": [
        "### Sex"
      ]
    },
    {
      "cell_type": "code",
      "execution_count": null,
      "metadata": {
        "id": "lV7SxG5bw7ua"
      },
      "outputs": [],
      "source": [
        "while True:\n",
        "    sex = input(\"What is the patient's sex? type 1 or 0 :\\n Male: 1\\n Female: 0 \\n>>>>> \")\n",
        "    try:\n",
        "        sex = int(sex)\n",
        "    except:\n",
        "        print(\"You did not enter a right value. Please enter  1 for [Male] or 0 for [Female].\")\n",
        "        continue\n",
        "    if sex==1 or sex==0:\n",
        "      break"
      ]
    },
    {
      "cell_type": "code",
      "execution_count": null,
      "metadata": {
        "id": "5svRcgQYw7ua"
      },
      "outputs": [],
      "source": [
        "print(\"Sex: \", sex)\n",
        "if(sex == 0): #Female[0] +1   Male[1] +0\n",
        "    CHA2DS2_VASc_score += 1\n",
        "    print(\"Points: \", CHA2DS2_VASc_score)\n",
        "else:\n",
        "    print(\"Points: \", CHA2DS2_VASc_score)"
      ]
    },
    {
      "cell_type": "markdown",
      "metadata": {
        "id": "5ea32cSNw7ua"
      },
      "source": [
        "### CHF history"
      ]
    },
    {
      "cell_type": "code",
      "execution_count": null,
      "metadata": {
        "id": "gM4GOCstw7ub"
      },
      "outputs": [],
      "source": [
        "while True:\n",
        "    chf_history = input(\"Does your patient have CHF history (Congestive Heart Failure)? type 1 or 0 :\\n Yes: 1\\n No: 0 \\n>>>>> \")\n",
        "    try:\n",
        "        chf_history = int(chf_history)\n",
        "    except:\n",
        "        print(\"You did not enter a right value. Please enter  1 for [Yes] or 0 for [No].\")\n",
        "        continue\n",
        "    if chf_history==1 or chf_history==0:\n",
        "      break"
      ]
    },
    {
      "cell_type": "code",
      "execution_count": null,
      "metadata": {
        "id": "bflDYt3pw7ub"
      },
      "outputs": [],
      "source": [
        "print(\"CHF history: \", chf_history)\n",
        "if(chf_history == 1): #Yes[1] +1   No[0] +0\n",
        "    CHA2DS2_VASc_score += 1\n",
        "    print(\"Points: \", CHA2DS2_VASc_score)\n",
        "else:\n",
        "    print(\"Points: \", CHA2DS2_VASc_score)"
      ]
    },
    {
      "cell_type": "markdown",
      "metadata": {
        "id": "dwxckQtfw7ub"
      },
      "source": [
        "### Hypertension history"
      ]
    },
    {
      "cell_type": "code",
      "execution_count": null,
      "metadata": {
        "id": "vHAYaKhnw7ub"
      },
      "outputs": [],
      "source": [
        "while True:\n",
        "    ht_history = input(\"Does your patient have Hypertension history ? type 1 or 0 :\\n Yes: 1\\n No: 0 \\n>>>>> \")\n",
        "    try:\n",
        "        ht_history = int(ht_history)\n",
        "    except:\n",
        "        print(\"You did not enter a right value. Please enter  1 for [Yes] or 0 for [No].\")\n",
        "        continue\n",
        "    if ht_history==1 or ht_history==0:\n",
        "      break"
      ]
    },
    {
      "cell_type": "code",
      "execution_count": null,
      "metadata": {
        "id": "MqpUPGcbw7ub"
      },
      "outputs": [],
      "source": [
        "print(\"Hypertension history: \", ht_history)\n",
        "if(ht_history == 1): #Yes[1] +1   No[0] +0\n",
        "    CHA2DS2_VASc_score += 1\n",
        "    print(\"Points: \", CHA2DS2_VASc_score)\n",
        "else:\n",
        "    print(\"Points: \", CHA2DS2_VASc_score)"
      ]
    },
    {
      "cell_type": "code",
      "source": [],
      "metadata": {
        "id": "wDIiDnog6U5u"
      },
      "execution_count": null,
      "outputs": []
    },
    {
      "cell_type": "markdown",
      "metadata": {
        "id": "GYymZIQ36VqP"
      },
      "source": [
        "### Stroke/TIA/thromboembolism history"
      ]
    },
    {
      "cell_type": "code",
      "execution_count": null,
      "metadata": {
        "id": "EMOIyLpm6VqP"
      },
      "outputs": [],
      "source": [
        "while True:\n",
        "    str_tia_thro_history = input(\"Does your patient have Stroke/TIA/thromboembolism history ? type 1 or 0 :\\n Yes: 1\\n No: 0 \\n>>>>> \")\n",
        "    try:\n",
        "        str_tia_thro_history = int(str_tia_thro_history)\n",
        "    except:\n",
        "        print(\"You did not enter a right value. Please enter  1 for [Yes] or 0 for [No].\")\n",
        "        continue\n",
        "    if str_tia_thro_history==1 or str_tia_thro_history==0:\n",
        "      break"
      ]
    },
    {
      "cell_type": "code",
      "execution_count": null,
      "metadata": {
        "id": "bAKGFwcc6VqQ"
      },
      "outputs": [],
      "source": [
        "print(\"Stroke/TIA/thromboembolism history: \", str_tia_thro_history)\n",
        "if(str_tia_thro_history == 1): #Yes[1] +2   No[0] +0\n",
        "    CHA2DS2_VASc_score += 2\n",
        "    print(\"Points: \", CHA2DS2_VASc_score)\n",
        "else:\n",
        "    print(\"Points: \", CHA2DS2_VASc_score)"
      ]
    },
    {
      "cell_type": "markdown",
      "metadata": {
        "id": "UnoKwXP96WuO"
      },
      "source": [
        "### Vascular disease history (prior MI, peripheral artery disease, or aortic plaque)"
      ]
    },
    {
      "cell_type": "code",
      "execution_count": null,
      "metadata": {
        "id": "IXPywA6i6WuP"
      },
      "outputs": [],
      "source": [
        "while True:\n",
        "    vd_history = input(\"Does your patient have Vascular disease history (prior MI, peripheral artery disease, or aortic plaque) ? type 1 or 0 :\\n Yes: 1\\n No: 0 \\n>>>>> \")\n",
        "    try:\n",
        "        vd_history = int(vd_history)\n",
        "    except:\n",
        "        print(\"You did not enter a right value. Please enter  1 for [Yes] or 0 for [No].\")\n",
        "        continue\n",
        "    if vd_history==1 or vd_history==0:\n",
        "      break"
      ]
    },
    {
      "cell_type": "code",
      "execution_count": null,
      "metadata": {
        "id": "LoCFLDj-6WuQ"
      },
      "outputs": [],
      "source": [
        "print(\"Vascular disease history (prior MI, peripheral artery disease, or aortic plaque): \", vd_history)\n",
        "if(vd_history == 1): #Yes[1] +1   No[0] +0\n",
        "    CHA2DS2_VASc_score += 1\n",
        "    print(\"Points: \", CHA2DS2_VASc_score)\n",
        "else:\n",
        "    print(\"Points: \", CHA2DS2_VASc_score)"
      ]
    },
    {
      "cell_type": "markdown",
      "metadata": {
        "id": "QB_pkmZx6XcJ"
      },
      "source": [
        "### Diabetes history"
      ]
    },
    {
      "cell_type": "code",
      "execution_count": null,
      "metadata": {
        "id": "jtkjPbxz6XcK"
      },
      "outputs": [],
      "source": [
        "while True:\n",
        "    dt_history = input(\"Does your patient have Diabetes history ? type 1 or 0 :\\n Yes: 1\\n No: 0 \\n>>>>> \")\n",
        "    try:\n",
        "        dt_history = int(dt_history)\n",
        "    except:\n",
        "        print(\"You did not enter a right value. Please enter  1 for [Yes] or 0 for [No].\")\n",
        "        continue\n",
        "    if dt_history==1 or dt_history==0:\n",
        "      break"
      ]
    },
    {
      "cell_type": "code",
      "execution_count": null,
      "metadata": {
        "id": "PT43IsaC6XcK"
      },
      "outputs": [],
      "source": [
        "print(\"Diabetes history: \", dt_history)\n",
        "if(dt_history == 1): #Yes[1] +1   No[0] +0\n",
        "    CHA2DS2_VASc_score += 1\n",
        "    print(\"Points: \", CHA2DS2_VASc_score)\n",
        "else:\n",
        "    print(\"Points: \", CHA2DS2_VASc_score)"
      ]
    },
    {
      "cell_type": "markdown",
      "metadata": {
        "id": "KQ6plFm7w7uc"
      },
      "source": [
        "## Part 5: Reporting the final score"
      ]
    },
    {
      "cell_type": "markdown",
      "metadata": {
        "id": "AwmgkdBuw7uc"
      },
      "source": [
        "Once you've written all the required code above, try running all the cells back-to-back and then printing out the final results using the cell below."
      ]
    },
    {
      "cell_type": "markdown",
      "metadata": {
        "id": "goUGM6haw7uc"
      },
      "source": [
        "### Total score"
      ]
    },
    {
      "cell_type": "markdown",
      "source": [
        "One recommendation suggests a 0 score for men or 1 score for women (no clinical risk factors) is “low” risk and may not require anticoagulation; a 1 score for men or 2 score for women is “low-moderate” risk and should consider antiplatelet or anticoagulation; and a score ≥2 for men or ≥3 for women is “moderate-high” risk and should otherwise be an anticoagulation candidate."
      ],
      "metadata": {
        "id": "OcSknHmk9foh"
      }
    },
    {
      "cell_type": "code",
      "execution_count": null,
      "metadata": {
        "id": "lV9Da4aKw7uc"
      },
      "outputs": [],
      "source": [
        "print(\"Total score: \", CHA2DS2_VASc_score)\n",
        "if(CHA2DS2_VASc_score ==0 and sex==1) or (CHA2DS2_VASc_score == 1 and sex==0): #remember the 1 is for Male and 0 is for Female\n",
        "    print(\"The patient has a 'low' Atrial Fibrillation Stroke Risk, and may not require anticoagulation.\")\n",
        "\n",
        "elif(CHA2DS2_VASc_score ==1 and sex==1) or (CHA2DS2_VASc_score == 2 and sex==0): #remember the 1 is for Male and 0 is for Female\n",
        "    print(\"The patient has a 'low-moderate' Atrial Fibrillation Stroke Risk, and should consider antiplatelet or anticoagulation.\")\n",
        "\n",
        "else: #remember the 1 is for Male and 0 is for Female\n",
        "    print(\"The patient has a 'moderate-high' Atrial Fibrillation Stroke Risk, and should otherwise be an anticoagulation candidate..\")"
      ]
    },
    {
      "cell_type": "code",
      "source": [],
      "metadata": {
        "id": "Er4jw_lv_PWo"
      },
      "execution_count": null,
      "outputs": []
    }
  ],
  "metadata": {
    "kernelspec": {
      "display_name": "Python 3 (ipykernel)",
      "language": "python",
      "name": "python3"
    },
    "language_info": {
      "codemirror_mode": {
        "name": "ipython",
        "version": 3
      },
      "file_extension": ".py",
      "mimetype": "text/x-python",
      "name": "python",
      "nbconvert_exporter": "python",
      "pygments_lexer": "ipython3",
      "version": "3.8.9"
    },
    "colab": {
      "provenance": [],
      "include_colab_link": true
    }
  },
  "nbformat": 4,
  "nbformat_minor": 0
}