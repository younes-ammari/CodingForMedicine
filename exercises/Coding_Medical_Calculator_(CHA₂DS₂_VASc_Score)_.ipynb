{
  "cells": [
    {
      "cell_type": "markdown",
      "metadata": {
        "id": "view-in-github",
        "colab_type": "text"
      },
      "source": [
        "<a href=\"https://colab.research.google.com/github/younes-ammari/CodingForMedicine/blob/main/exercises/Coding_Medical_Calculator_(CHA%E2%82%82DS%E2%82%82_VASc_Score)_.ipynb\" target=\"_parent\"><img src=\"https://colab.research.google.com/assets/colab-badge.svg\" alt=\"Open In Colab\"/></a>"
      ]
    },
    {
      "cell_type": "markdown",
      "metadata": {
        "id": "7SGo8A77w7uL"
      },
      "source": [
        "<a href=\"https://colab.research.google.com/github/chris-lovejoy/CodingForMedicine/blob/main/exercises/Coding_Medical_Calculator.ipynb\" target=\"_parent\"><img src=\"https://colab.research.google.com/assets/colab-badge.svg\" alt=\"Open In Colab\"/></a>"
      ]
    },
    {
      "cell_type": "markdown",
      "metadata": {
        "id": "9wQHeJcIw7uQ"
      },
      "source": [
        "# How to Code a Medical Calculator"
      ]
    },
    {
      "cell_type": "markdown",
      "metadata": {
        "id": "zeiIwf-Mw7uR"
      },
      "source": [
        "**In this exercise, we will make a simple medical calculator for calculating a patient's score of [the CHA₂DS₂-VASc Score](https://www.mdcalc.com/calc/801/cha2ds2-vasc-score-atrial-fibrillation-stroke-risk) for Atrial Fibrillation Stroke Risk .**\n",
        "\n",
        "You're then invited to apply the same principles for other medical calculators, such as:\n",
        "- [CURB-65 score](https://www.mdcalc.com/calc/324/curb-65-score-pneumonia-severity) for pneumonia severity\n",
        "- [GCS](https://www.mdcalc.com/calc/64/glasgow-coma-scale-score-gcs) \n",
        "- [PERC score](https://www.mdcalc.com/calc/347/perc-rule-pulmonary-embolism) for pulmonary embolism\n",
        "- [qSOFA score](https://www.mdcalc.com/calc/2654/qsofa-quick-sofa-score-sepsis) for sepsis\n",
        "\n",
        "We will making use of a few key Python functions and concepts:\n",
        "- the **input() function**, which prompts the user to enter information\n",
        "- the **try/except statement**, which lets you specify how the code should respond to errors\n",
        "- checking **data types** such as integers (ints) and floats  \n",
        "- the conditional statements **if, else and while**, to control which code gets executed based on conditions \n",
        "\n",
        "Credit to [Harvinder Power](https://github.com/harvinder-power) for the initial inspiration for this exercise."
      ]
    },
    {
      "cell_type": "markdown",
      "metadata": {
        "id": "DN9HsKCnw7uS"
      },
      "source": [
        "## Part 1: Getting ready"
      ]
    },
    {
      "cell_type": "markdown",
      "metadata": {
        "id": "86bDOrSJw7uT"
      },
      "source": [
        "The print() function just lets us print out anything we want into the console. Test it out below."
      ]
    },
    {
      "cell_type": "code",
      "execution_count": null,
      "metadata": {
        "id": "Ld0ZSNW-w7uT"
      },
      "outputs": [],
      "source": [
        "print('Welcome to the CHA₂DS₂-VASc Score Calculator!\\n')"
      ]
    },
    {
      "cell_type": "markdown",
      "metadata": {
        "id": "b4lMlad1w7uU"
      },
      "source": [
        "Because we're creating a calculator, we'll need a variable to keep the score. Let's declare this variable:"
      ]
    },
    {
      "cell_type": "code",
      "execution_count": 15,
      "metadata": {
        "id": "HVhwkUjUw7uV"
      },
      "outputs": [],
      "source": [
        "CHA2DS2_VASc_score = 0"
      ]
    },
    {
      "cell_type": "markdown",
      "metadata": {
        "id": "ecA_FAI4w7uV"
      },
      "source": [
        "## Part 2: Getting the first input\n"
      ]
    },
    {
      "cell_type": "markdown",
      "metadata": {
        "id": "zQ6jGw06w7uW"
      },
      "source": [
        "For CHA₂DS₂-VASc Score, we need to know the patient's: \n",
        "\n",
        "*   Age\n",
        "*   Sexe\n",
        "*   CHF history\n",
        "*   Hypertension history\n",
        "*   Stroke/TIA/thromboembolism history \n",
        "*   Vascular disease history (prior MI, peripheral artery disease, or aortic plaque)\n",
        "*   Diabetes history\n",
        "\n",
        "\n",
        "\n",
        "Let's start by asking the user to enter the age using the input() function:"
      ]
    },
    {
      "cell_type": "code",
      "execution_count": 23,
      "metadata": {
        "id": "XOnvUTr8w7uW",
        "colab": {
          "base_uri": "https://localhost:8080/"
        },
        "outputId": "f013e3c8-3ed2-465e-9493-0cad6d295679"
      },
      "outputs": [
        {
          "name": "stdout",
          "output_type": "stream",
          "text": [
            "What is the patient's Age?77\n"
          ]
        }
      ],
      "source": [
        "age = input(\"What is the patient's Age?\")"
      ]
    },
    {
      "cell_type": "markdown",
      "metadata": {
        "id": "Aq_IdBuLw7uW"
      },
      "source": [
        "This works - but there's a problem. Right now, the input will accept *anything* - including if the user doesn't input a number. That won't work, because we'll need to perform a calculation on it later.\n",
        "\n",
        "We can solve this using try/except. We put the code we want to try in a 'try' section. If the code isn't able to execute, we can return an error in the 'except' section.\n",
        "\n",
        "Let's try converting the input received into a number, and add an error if the code can't convert it. Test this out in the code block below."
      ]
    },
    {
      "cell_type": "code",
      "execution_count": null,
      "metadata": {
        "id": "MXC1gerYw7uX"
      },
      "outputs": [],
      "source": [
        "age = input(\"What is the patient's age? \")\n",
        "try:\n",
        "    # Tries to convert the string to a int, and sees if any errors occur (see below) \n",
        "    age = int(age)\n",
        "except ValueError:\n",
        "    print(\"You did not enter a number. Please enter a number.\")"
      ]
    },
    {
      "cell_type": "markdown",
      "metadata": {
        "id": "6LU1_RCzw7uX"
      },
      "source": [
        "If the user enters an incorrect value, we want the code to keep running - and to prompt them to enter another number.\n",
        "\n",
        "We can do this using the **while** conditional. The while conditional will keep executing it's code as long as the conditional is met. For example:"
      ]
    },
    {
      "cell_type": "code",
      "execution_count": null,
      "metadata": {
        "id": "o86-UBHLw7uX"
      },
      "outputs": [],
      "source": [
        "index = 0\n",
        "while index < 10:\n",
        "    print(index)\n",
        "    index += 1\n",
        "print(\"Index no longer less than 0.\")"
      ]
    },
    {
      "cell_type": "markdown",
      "metadata": {
        "id": "zjUiUIzIw7uX"
      },
      "source": [
        "In our case, we can use the while loop to keep running until the user as input a valid number. to do this, we can take our code from before and put it inside a 'while True' statement. 'While True' means that the code will keep on running forever until we call 'break' (so it's important not to forget that!).\n",
        "\n",
        "We'll put the 'break' statement inside an 'else' block, so it only gets executed if the 'try' statement was performed successfully."
      ]
    },
    {
      "cell_type": "code",
      "execution_count": 24,
      "metadata": {
        "id": "DfFUv4Wbw7uY",
        "colab": {
          "base_uri": "https://localhost:8080/"
        },
        "outputId": "f606bade-96d9-4c61-9c5f-b4cc323496f8"
      },
      "outputs": [
        {
          "name": "stdout",
          "output_type": "stream",
          "text": [
            "What is the patient's age? 77\n"
          ]
        }
      ],
      "source": [
        "while True:\n",
        "    age = input(\"What is the patient's age? \")\n",
        "    try:\n",
        "        age = int(age)\n",
        "    except ValueError:\n",
        "        print(\"You did not enter a number. Please enter a number.\")\n",
        "    else:\n",
        "        break"
      ]
    },
    {
      "cell_type": "markdown",
      "metadata": {
        "id": "c69I3JK5w7uY"
      },
      "source": [
        "## Part 3: Update our score based on the input"
      ]
    },
    {
      "cell_type": "markdown",
      "metadata": {
        "id": "bfmj25wPw7uY"
      },
      "source": [
        "We now need some logic to handle how we update our SIRS score. If the temperature is above 38 or below 36, then we should increase the score by 1. We'll use an 'if' statement for this. We declared the variable 'SIRS_score' at the start, so this is the variable that we'll modify."
      ]
    },
    {
      "cell_type": "code",
      "execution_count": 25,
      "metadata": {
        "id": "hqOW8_7Gw7uY",
        "colab": {
          "base_uri": "https://localhost:8080/"
        },
        "outputId": "989be1fe-281f-45d8-a321-49f193f49a0a"
      },
      "outputs": [
        {
          "output_type": "stream",
          "name": "stdout",
          "text": [
            "Age:  77\n",
            "Points:  2\n"
          ]
        }
      ],
      "source": [
        "print(\"Age: \", age)\n",
        "if(age >= 65 and age <= 74):\n",
        "    CHA2DS2_VASc_score += 1\n",
        "    print(\"Points: \", CHA2DS2_VASc_score)\n",
        "elif (age>=75):\n",
        "    CHA2DS2_VASc_score += 2\n",
        "    print(\"Points: \", CHA2DS2_VASc_score)\n",
        "else:\n",
        "    print(\"Points: \", CHA2DS2_VASc_score)"
      ]
    },
    {
      "cell_type": "markdown",
      "metadata": {
        "id": "9apUslqEw7uZ"
      },
      "source": [
        "We now have the all the basic building blocks for (1) prompting the user to input information, (2) checking the information is appropriate and (3) using the information to update our score."
      ]
    },
    {
      "cell_type": "markdown",
      "metadata": {
        "id": "qx0xmzCdw7uZ"
      },
      "source": [
        "## Part 4: Requesting the other variables and updating the score"
      ]
    },
    {
      "cell_type": "markdown",
      "metadata": {
        "id": "vvG9DC4dw7uZ"
      },
      "source": [
        "Below are the six remaining variables/elements we need to ask about, with gradually-reducing amounts of template code included. Work through them in-turn for practice."
      ]
    },
    {
      "cell_type": "markdown",
      "metadata": {
        "id": "FL0sgh40w7uZ"
      },
      "source": [
        "### Sex"
      ]
    },
    {
      "cell_type": "code",
      "execution_count": 26,
      "metadata": {
        "id": "lV7SxG5bw7ua",
        "colab": {
          "base_uri": "https://localhost:8080/"
        },
        "outputId": "df2ed71f-a04f-41ff-b5c7-9109c0f778bc"
      },
      "outputs": [
        {
          "name": "stdout",
          "output_type": "stream",
          "text": [
            "What is the patient's sex? type 1 or 0 :\n",
            " Male: 1\n",
            " Female: 0 \n",
            ">>>>> 0\n"
          ]
        }
      ],
      "source": [
        "while True:\n",
        "    sex = input(\"What is the patient's sex? type 1 or 0 :\\n Male: 1\\n Female: 0 \\n>>>>> \")\n",
        "    try:\n",
        "        sex = int(sex)\n",
        "    except:\n",
        "        print(\"You did not enter a right value. Please enter  1 for [Male] or 0 for [Female].\")\n",
        "        continue\n",
        "    if sex==1 or sex==0:\n",
        "      break"
      ]
    },
    {
      "cell_type": "code",
      "execution_count": 27,
      "metadata": {
        "id": "5svRcgQYw7ua",
        "colab": {
          "base_uri": "https://localhost:8080/"
        },
        "outputId": "2a144610-1345-43aa-edf7-284062afeba8"
      },
      "outputs": [
        {
          "output_type": "stream",
          "name": "stdout",
          "text": [
            "Sex:  0\n",
            "Points:  3\n"
          ]
        }
      ],
      "source": [
        "print(\"Sex: \", sex)\n",
        "if(sex == 0): #Female[0] +1   Male[1] +0\n",
        "    CHA2DS2_VASc_score += 1\n",
        "    print(\"Points: \", CHA2DS2_VASc_score)\n",
        "else:\n",
        "    print(\"Points: \", CHA2DS2_VASc_score)"
      ]
    },
    {
      "cell_type": "markdown",
      "metadata": {
        "id": "5ea32cSNw7ua"
      },
      "source": [
        "### CHF history"
      ]
    },
    {
      "cell_type": "code",
      "execution_count": 28,
      "metadata": {
        "id": "gM4GOCstw7ub",
        "colab": {
          "base_uri": "https://localhost:8080/"
        },
        "outputId": "c87f0768-7447-4080-b6c3-e96d8fbce10f"
      },
      "outputs": [
        {
          "name": "stdout",
          "output_type": "stream",
          "text": [
            "Do you have CHF history (Congestive Heart Failure)? type 1 or 0 :\n",
            " Yes: 1\n",
            " No: 0 \n",
            ">>>>> 1\n"
          ]
        }
      ],
      "source": [
        "while True:\n",
        "    chf_history = input(\"Do you have CHF history (Congestive Heart Failure)? type 1 or 0 :\\n Yes: 1\\n No: 0 \\n>>>>> \")\n",
        "    try:\n",
        "        chf_history = int(chf_history)\n",
        "    except:\n",
        "        print(\"You did not enter a right value. Please enter  1 for [Yes] or 0 for [No].\")\n",
        "        continue\n",
        "    if chf_history==1 or chf_history==0:\n",
        "      break"
      ]
    },
    {
      "cell_type": "code",
      "execution_count": 29,
      "metadata": {
        "id": "bflDYt3pw7ub",
        "colab": {
          "base_uri": "https://localhost:8080/"
        },
        "outputId": "5f7e8543-97d8-498c-a30b-edb25e10faa2"
      },
      "outputs": [
        {
          "output_type": "stream",
          "name": "stdout",
          "text": [
            "CHF history:  1\n",
            "Points:  4\n"
          ]
        }
      ],
      "source": [
        "print(\"CHF history: \", chf_history)\n",
        "if(chf_history == 1): #Yes[1] +1   No[0] +0\n",
        "    CHA2DS2_VASc_score += 1\n",
        "    print(\"Points: \", CHA2DS2_VASc_score)\n",
        "else:\n",
        "    print(\"Points: \", CHA2DS2_VASc_score)"
      ]
    },
    {
      "cell_type": "markdown",
      "metadata": {
        "id": "dwxckQtfw7ub"
      },
      "source": [
        "### Hypertension history"
      ]
    },
    {
      "cell_type": "code",
      "execution_count": 30,
      "metadata": {
        "id": "vHAYaKhnw7ub",
        "colab": {
          "base_uri": "https://localhost:8080/"
        },
        "outputId": "d7182e28-fdc8-48d9-b92c-fbddbbd4e944"
      },
      "outputs": [
        {
          "name": "stdout",
          "output_type": "stream",
          "text": [
            "Do you have Hypertension history ? type 1 or 0 :\n",
            " Yes: 1\n",
            " No: 0 \n",
            ">>>>> 0\n"
          ]
        }
      ],
      "source": [
        "while True:\n",
        "    ht_history = input(\"Do you have Hypertension history ? type 1 or 0 :\\n Yes: 1\\n No: 0 \\n>>>>> \")\n",
        "    try:\n",
        "        ht_history = int(ht_history)\n",
        "    except:\n",
        "        print(\"You did not enter a right value. Please enter  1 for [Yes] or 0 for [No].\")\n",
        "        continue\n",
        "    if ht_history==1 or ht_history==0:\n",
        "      break"
      ]
    },
    {
      "cell_type": "code",
      "execution_count": 31,
      "metadata": {
        "id": "MqpUPGcbw7ub",
        "colab": {
          "base_uri": "https://localhost:8080/"
        },
        "outputId": "e89ca622-8562-4717-de4c-f908977bd871"
      },
      "outputs": [
        {
          "output_type": "stream",
          "name": "stdout",
          "text": [
            "Hypertension history:  0\n",
            "Points:  4\n"
          ]
        }
      ],
      "source": [
        "print(\"Hypertension history: \", ht_history)\n",
        "if(ht_history == 1): #Yes[1] +1   No[0] +0\n",
        "    CHA2DS2_VASc_score += 1\n",
        "    print(\"Points: \", CHA2DS2_VASc_score)\n",
        "else:\n",
        "    print(\"Points: \", CHA2DS2_VASc_score)"
      ]
    },
    {
      "cell_type": "code",
      "source": [],
      "metadata": {
        "id": "wDIiDnog6U5u"
      },
      "execution_count": null,
      "outputs": []
    },
    {
      "cell_type": "markdown",
      "metadata": {
        "id": "GYymZIQ36VqP"
      },
      "source": [
        "### Stroke/TIA/thromboembolism history"
      ]
    },
    {
      "cell_type": "code",
      "execution_count": 32,
      "metadata": {
        "colab": {
          "base_uri": "https://localhost:8080/"
        },
        "id": "EMOIyLpm6VqP",
        "outputId": "50875dd5-284d-4abe-bdf8-9cc40fcc5fe1"
      },
      "outputs": [
        {
          "name": "stdout",
          "output_type": "stream",
          "text": [
            "Do you have Stroke/TIA/thromboembolism history ? type 1 or 0 :\n",
            " Yes: 1\n",
            " No: 0 \n",
            ">>>>> 0\n"
          ]
        }
      ],
      "source": [
        "while True:\n",
        "    str_tia_thro_history = input(\"Do you have Stroke/TIA/thromboembolism history ? type 1 or 0 :\\n Yes: 1\\n No: 0 \\n>>>>> \")\n",
        "    try:\n",
        "        str_tia_thro_history = int(str_tia_thro_history)\n",
        "    except:\n",
        "        print(\"You did not enter a right value. Please enter  1 for [Yes] or 0 for [No].\")\n",
        "        continue\n",
        "    if str_tia_thro_history==1 or str_tia_thro_history==0:\n",
        "      break"
      ]
    },
    {
      "cell_type": "code",
      "execution_count": 33,
      "metadata": {
        "colab": {
          "base_uri": "https://localhost:8080/"
        },
        "id": "bAKGFwcc6VqQ",
        "outputId": "b883d9aa-3a78-41db-f434-8a1e4dc30073"
      },
      "outputs": [
        {
          "output_type": "stream",
          "name": "stdout",
          "text": [
            "Stroke/TIA/thromboembolism history:  0\n",
            "Points:  4\n"
          ]
        }
      ],
      "source": [
        "print(\"Stroke/TIA/thromboembolism history: \", str_tia_thro_history)\n",
        "if(str_tia_thro_history == 1): #Yes[1] +2   No[0] +0\n",
        "    CHA2DS2_VASc_score += 2\n",
        "    print(\"Points: \", CHA2DS2_VASc_score)\n",
        "else:\n",
        "    print(\"Points: \", CHA2DS2_VASc_score)"
      ]
    },
    {
      "cell_type": "markdown",
      "metadata": {
        "id": "UnoKwXP96WuO"
      },
      "source": [
        "### Vascular disease history (prior MI, peripheral artery disease, or aortic plaque)"
      ]
    },
    {
      "cell_type": "code",
      "execution_count": 34,
      "metadata": {
        "colab": {
          "base_uri": "https://localhost:8080/"
        },
        "id": "IXPywA6i6WuP",
        "outputId": "8940ea53-b71d-450d-87ee-8b18cba1e1db"
      },
      "outputs": [
        {
          "name": "stdout",
          "output_type": "stream",
          "text": [
            "Do you have Vascular disease history (prior MI, peripheral artery disease, or aortic plaque) ? type 1 or 0 :\n",
            " Yes: 1\n",
            " No: 0 \n",
            ">>>>> 1\n"
          ]
        }
      ],
      "source": [
        "while True:\n",
        "    vd_history = input(\"Do you have Vascular disease history (prior MI, peripheral artery disease, or aortic plaque) ? type 1 or 0 :\\n Yes: 1\\n No: 0 \\n>>>>> \")\n",
        "    try:\n",
        "        vd_history = int(vd_history)\n",
        "    except:\n",
        "        print(\"You did not enter a right value. Please enter  1 for [Yes] or 0 for [No].\")\n",
        "        continue\n",
        "    if vd_history==1 or vd_history==0:\n",
        "      break"
      ]
    },
    {
      "cell_type": "code",
      "execution_count": 35,
      "metadata": {
        "colab": {
          "base_uri": "https://localhost:8080/"
        },
        "id": "LoCFLDj-6WuQ",
        "outputId": "8b9e57f7-bb60-43f5-82ce-a3ee1015efb9"
      },
      "outputs": [
        {
          "output_type": "stream",
          "name": "stdout",
          "text": [
            "Vascular disease history (prior MI, peripheral artery disease, or aortic plaque):  1\n",
            "Points:  5\n"
          ]
        }
      ],
      "source": [
        "print(\"Vascular disease history (prior MI, peripheral artery disease, or aortic plaque): \", vd_history)\n",
        "if(vd_history == 1): #Yes[1] +1   No[0] +0\n",
        "    CHA2DS2_VASc_score += 1\n",
        "    print(\"Points: \", CHA2DS2_VASc_score)\n",
        "else:\n",
        "    print(\"Points: \", CHA2DS2_VASc_score)"
      ]
    },
    {
      "cell_type": "markdown",
      "metadata": {
        "id": "QB_pkmZx6XcJ"
      },
      "source": [
        "### Diabetes history"
      ]
    },
    {
      "cell_type": "code",
      "execution_count": 36,
      "metadata": {
        "colab": {
          "base_uri": "https://localhost:8080/"
        },
        "id": "jtkjPbxz6XcK",
        "outputId": "6bd88bec-2a97-4b8d-97e5-340811a2afba"
      },
      "outputs": [
        {
          "name": "stdout",
          "output_type": "stream",
          "text": [
            "Do you have Diabetes history ? type 1 or 0 :\n",
            " Yes: 1\n",
            " No: 0 \n",
            ">>>>> 1\n"
          ]
        }
      ],
      "source": [
        "while True:\n",
        "    dt_history = input(\"Do you have Diabetes history ? type 1 or 0 :\\n Yes: 1\\n No: 0 \\n>>>>> \")\n",
        "    try:\n",
        "        dt_history = int(dt_history)\n",
        "    except:\n",
        "        print(\"You did not enter a right value. Please enter  1 for [Yes] or 0 for [No].\")\n",
        "        continue\n",
        "    if dt_history==1 or dt_history==0:\n",
        "      break"
      ]
    },
    {
      "cell_type": "code",
      "execution_count": 37,
      "metadata": {
        "colab": {
          "base_uri": "https://localhost:8080/"
        },
        "id": "PT43IsaC6XcK",
        "outputId": "0d751dd3-7e85-49d4-cfee-00298ed81650"
      },
      "outputs": [
        {
          "output_type": "stream",
          "name": "stdout",
          "text": [
            "Diabetes history:  1\n",
            "Points:  6\n"
          ]
        }
      ],
      "source": [
        "print(\"Diabetes history: \", dt_history)\n",
        "if(dt_history == 1): #Yes[1] +1   No[0] +0\n",
        "    CHA2DS2_VASc_score += 1\n",
        "    print(\"Points: \", CHA2DS2_VASc_score)\n",
        "else:\n",
        "    print(\"Points: \", CHA2DS2_VASc_score)"
      ]
    },
    {
      "cell_type": "markdown",
      "metadata": {
        "id": "KQ6plFm7w7uc"
      },
      "source": [
        "## Part 5: Reporting the final score"
      ]
    },
    {
      "cell_type": "markdown",
      "metadata": {
        "id": "AwmgkdBuw7uc"
      },
      "source": [
        "Once you've written all the required code above, try running all the cells back-to-back and then printing out the final results using the cell below."
      ]
    },
    {
      "cell_type": "markdown",
      "metadata": {
        "id": "goUGM6haw7uc"
      },
      "source": [
        "### Total score"
      ]
    },
    {
      "cell_type": "markdown",
      "source": [
        "One recommendation suggests a 0 score for men or 1 score for women (no clinical risk factors) is “low” risk and may not require anticoagulation; a 1 score for men or 2 score for women is “low-moderate” risk and should consider antiplatelet or anticoagulation; and a score ≥2 for men or ≥3 for women is “moderate-high” risk and should otherwise be an anticoagulation candidate."
      ],
      "metadata": {
        "id": "OcSknHmk9foh"
      }
    },
    {
      "cell_type": "code",
      "execution_count": 38,
      "metadata": {
        "id": "lV9Da4aKw7uc",
        "colab": {
          "base_uri": "https://localhost:8080/"
        },
        "outputId": "d13e1d40-f2cd-44c2-a2bb-1c612d25c586"
      },
      "outputs": [
        {
          "output_type": "stream",
          "name": "stdout",
          "text": [
            "Total score:  6\n",
            "The patient has a 'moderate-high' Atrial Fibrillation Stroke Risk, and should otherwise be an anticoagulation candidate..\n"
          ]
        }
      ],
      "source": [
        "print(\"Total score: \", CHA2DS2_VASc_score)\n",
        "if(CHA2DS2_VASc_score ==0 and sex==1) or (CHA2DS2_VASc_score == 1 and sex==0): #remember the 1 is for Male and 0 is for Female\n",
        "    print(\"The patient has a 'low' Atrial Fibrillation Stroke Risk, and may not require anticoagulation.\")\n",
        "\n",
        "elif(CHA2DS2_VASc_score ==1 and sex==1) or (CHA2DS2_VASc_score == 2 and sex==0): #remember the 1 is for Male and 0 is for Female\n",
        "    print(\"The patient has a 'low-moderate' Atrial Fibrillation Stroke Risk, and should consider antiplatelet or anticoagulation.\")\n",
        "\n",
        "else: #remember the 1 is for Male and 0 is for Female\n",
        "    print(\"The patient has a 'moderate-high' Atrial Fibrillation Stroke Risk, and should otherwise be an anticoagulation candidate..\")"
      ]
    },
    {
      "cell_type": "code",
      "source": [],
      "metadata": {
        "id": "Er4jw_lv_PWo"
      },
      "execution_count": null,
      "outputs": []
    }
  ],
  "metadata": {
    "kernelspec": {
      "display_name": "Python 3 (ipykernel)",
      "language": "python",
      "name": "python3"
    },
    "language_info": {
      "codemirror_mode": {
        "name": "ipython",
        "version": 3
      },
      "file_extension": ".py",
      "mimetype": "text/x-python",
      "name": "python",
      "nbconvert_exporter": "python",
      "pygments_lexer": "ipython3",
      "version": "3.8.9"
    },
    "colab": {
      "provenance": [],
      "include_colab_link": true
    }
  },
  "nbformat": 4,
  "nbformat_minor": 0
}